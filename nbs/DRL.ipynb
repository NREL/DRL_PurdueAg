{
 "cells": [
  {
   "cell_type": "code",
   "execution_count": 31,
   "metadata": {},
   "outputs": [],
   "source": [
    "import os\n",
    "import tensorflow as tf\n",
    "from pathlib import Path\n",
    "import numpy as np\n",
    "import pandas as pd\n",
    "import matplotlib.pyplot as plt\n",
    "import gym\n",
    "from gym import spaces\n",
    "from ray import tune\n",
    "import sys\n",
    "# sys.path.append('/Users/sakhtar/projects/DRL_PurdueAg/')\n",
    "import rom\n",
    "import utils\n",
    "import ray.rllib.agents.ppo as ppo"
   ]
  },
  {
   "cell_type": "code",
   "execution_count": null,
   "metadata": {},
   "outputs": [],
   "source": [
    "# df = pd.read_csv('data/IO_data_SupervisoryController.csv', skiprows=3)"
   ]
  },
  {
   "cell_type": "code",
   "execution_count": 33,
   "metadata": {},
   "outputs": [],
   "source": [
    "config = ppo.DEFAULT_CONFIG.copy()"
   ]
  },
  {
   "cell_type": "code",
   "execution_count": 54,
   "metadata": {},
   "outputs": [
    {
     "data": {
      "text/plain": [
       "-1"
      ]
     },
     "execution_count": 54,
     "metadata": {},
     "output_type": "execute_result"
    }
   ],
   "source": [
    "config['evaluation_num_episodes']"
   ]
  },
  {
   "cell_type": "markdown",
   "metadata": {},
   "source": [
    "# DRL Outline\n",
    "\n",
    "1. Discrete points of observation and actions\n",
    "2. Interval b/w 2 consecutive observation - Agent observes at time, t. For this iteration the interval is set at 1 second\n",
    "3. Each episode comprises of a 300 second time\n",
    "4. Action will be taken by the agent after 1 second\n",
    "\n",
    "## Action\n",
    "\n",
    "1. Medium pressure ($P_{MP}$) and High Pressure ($P_{HP}$) levels\n",
    "2. Operating mode of the actuators: $mode_{op} \\in \\{1,2,3\\} $\n",
    "3. $mode^1_{op} = P_{MP} - P_{LP}$\n",
    "4. $mode^2_{op} = P_{HP} - P_{MP}$\n",
    "5. $mode^3_{op} = P_{HP} - P_{LP}$\n",
    "## State/Observation\n",
    "\n",
    "1. Throttling valve pressures of each actuator:  $\\Delta P_{i}$, where $i \\in \\{ bulk, fan, vac, alt\\}$  \n",
    "2. Fluid flow rates across each actuator:  $Q_{i}$, where $i \\in \\{ bulk, fan, vac, alt\\}$  \n",
    "3. Deviation between commanded vs actual rotation speed of each actuator:  $\\Delta \\omega_{i}$, where $i \\in \\{ bulk, fan, vac, alt\\}$\n",
    "\n",
    "## Environment variables\n",
    "\n",
    "For this problem, the environment variable is the commanded speed of the actuator. The commanded speeds determine the operating pressure required by the actuators to maintain that speed\n",
    "\n",
    "## Transition - Step function\n",
    "\n",
    "1. Given state, $s_t$, action, $a_t$, and environment variable, $e_t$, predict, $s_{t+1}$\n",
    "2. The ROM governs the transition/step function\n",
    "3. State $s_{t+1}$ should only depend on $a_t$ and $s_t$ and should be independent of the history -> Ensures that the environment is a Markov decision process\n",
    "\n",
    "Should the environment variable $e_t$ determine the bounds for action variable? How can that be enforced?\n",
    "\n",
    "## Reward function\n",
    "\n",
    "Reward function in this case has five components to it, all of which need to be minimized:\n",
    "\n",
    "1. $W_{loss} = (P_{available} - \\Delta P_{i})*Q_{i}$\n",
    "2. $ \\omega_{deviation} = (\\omega^{t}_{target, i} - \\omega^{t}_{actual, i})^2$\n",
    "3. $ pHP_{deviation} =  pHP^{t+1} - pHP^{t}$\n",
    "4. $ pMP_{deviation} =  pMP^{t+1} - pMP^{t}$\n",
    "5. $ mode_{i, deviation} = mode^{t+1}_{i} - mode^{t}_{i} $"
   ]
  },
  {
   "cell_type": "code",
   "execution_count": 15,
   "metadata": {},
   "outputs": [
    {
     "data": {
      "text/plain": [
       "(array([92.36637,  6.69775], dtype=float32), array([2, 1, 1, 1]))"
      ]
     },
     "execution_count": 15,
     "metadata": {},
     "output_type": "execute_result"
    }
   ],
   "source": [
    "d = spaces.MultiDiscrete([3, 3, 3, 3])\n",
    "e = spaces.Box(low=1, high=300, shape=(2,), dtype=np.float32)\n",
    "\n",
    "e.sample(), d.sample()"
   ]
  },
  {
   "cell_type": "code",
   "execution_count": 16,
   "metadata": {},
   "outputs": [
    {
     "data": {
      "text/plain": [
       "OrderedDict([('actuator_mode', array([1, 2, 1, 0])),\n",
       "             ('pHP', array([6.439041], dtype=float32)),\n",
       "             ('ratio', array([0.2532038], dtype=float32))])"
      ]
     },
     "execution_count": 16,
     "metadata": {},
     "output_type": "execute_result"
    }
   ],
   "source": [
    "max_operating_pressure = 300  \n",
    "action_space = spaces.Dict({\n",
    "            'actuator_mode': spaces.MultiDiscrete([3, 3, 3, 3]),  # Example discrete action with 4 options corresponding to 4 modes of the actuators\n",
    "            'pHP': spaces.Box(low=1, high=max_operating_pressure, shape=(1,), dtype=np.float32),\n",
    "              'ratio': spaces.Box(low=0, high = 1, shape=(1,), dtype = np.float32),# Example continuous action with shape (2,) for MP and HP\n",
    "        })\n",
    "action_space.sample()"
   ]
  },
  {
   "cell_type": "code",
   "execution_count": 17,
   "metadata": {},
   "outputs": [
    {
     "data": {
      "text/plain": [
       "array([[219.06484005],\n",
       "       [ 32.49306261]])"
      ]
     },
     "execution_count": 17,
     "metadata": {},
     "output_type": "execute_result"
    }
   ],
   "source": [
    "high_pressure = np.random.uniform(low=1, high=300)\n",
    "medium_pressure = np.random.uniform()*high_pressure\n",
    "np.array([[high_pressure],[medium_pressure]])"
   ]
  },
  {
   "cell_type": "code",
   "execution_count": 18,
   "metadata": {},
   "outputs": [
    {
     "name": "stderr",
     "output_type": "stream",
     "text": [
      "/opt/anaconda3/envs/PurdueAg/lib/python3.9/site-packages/gym/spaces/box.py:73: UserWarning: \u001b[33mWARN: Box bound precision lowered by casting to float32\u001b[0m\n",
      "  logger.warn(\n"
     ]
    }
   ],
   "source": [
    "num_actuators = 4\n",
    "max_delta_rpm = 4000               #rpm\n",
    "max_operating_flowrate = 50        #lpm\n",
    "max_operating_pressure = 300   #bar\n",
    "min_rail_pressure = 20\n",
    "max_rpm = np.array([4998,4950,3915.66,3000]) # max rpm for each actuator (bulk, vac, alt, fert)\n",
    "obs_low = np.zeros((12,1))\n",
    "obs_high = np.array([[max_operating_pressure] for _ in range(num_actuators)] + \n",
    "                            [[max_operating_flowrate] for _ in range(num_actuators)] +\n",
    "                            [[max_delta_rpm] for _ in range(num_actuators)])\n",
    "observation_space = spaces.Box(low=obs_low, high=obs_high, dtype=np.float32)"
   ]
  },
  {
   "cell_type": "code",
   "execution_count": 47,
   "metadata": {},
   "outputs": [],
   "source": [
    "comp_time = 3670"
   ]
  },
  {
   "cell_type": "code",
   "execution_count": 49,
   "metadata": {},
   "outputs": [
    {
     "data": {
      "text/plain": [
       "10"
      ]
     },
     "execution_count": 49,
     "metadata": {},
     "output_type": "execute_result"
    }
   ],
   "source": [
    "(comp_time%60)"
   ]
  },
  {
   "cell_type": "code",
   "execution_count": 19,
   "metadata": {},
   "outputs": [
    {
     "data": {
      "text/plain": [
       "array([[ 256.00385 ],\n",
       "       [  24.81849 ],\n",
       "       [ 282.6233  ],\n",
       "       [ 232.44662 ],\n",
       "       [  28.05222 ],\n",
       "       [  30.68227 ],\n",
       "       [   9.982396],\n",
       "       [   9.73631 ],\n",
       "       [ 877.2622  ],\n",
       "       [1765.1543  ],\n",
       "       [ 810.432   ],\n",
       "       [1461.726   ]], dtype=float32)"
      ]
     },
     "execution_count": 19,
     "metadata": {},
     "output_type": "execute_result"
    }
   ],
   "source": [
    "observation_space.sample()"
   ]
  },
  {
   "cell_type": "code",
   "execution_count": 35,
   "metadata": {},
   "outputs": [],
   "source": [
    "T, data = utils.load_data('../data/data.h5')\n",
    "Bulk_P = data['Bulk_P']\n",
    "Alt_P = data['Alt_P']\n",
    "Vac_P = data['Vac_P']\n",
    "Fert_P = data['Fert_P']\n",
    "Bulk_Q = data['Bulk_Q']\n",
    "Alt_Q = data['Alt_Q']\n",
    "Vac_Q = data['Vac_Q']\n",
    "Fert_Q = data['Fert_Q']\n",
    "Bulk_rpm_delta = data['Bulk_rpm_delta']\n",
    "Alt_rpm_delta = data['Alt_rpm_delta']\n",
    "Vac_rpm_delta = data['Vac_rpm_delta']\n",
    "Fert_rpm_delta = data['Fert_rpm_delta']\n",
    "k=np.random.randint(0,len(Bulk_P))\n",
    "init_obs = {'continuous': np.array([Bulk_P[k,k], Alt_P[k, k], Vac_P[k, k], Fert_P[k, k],\n",
    "                                Bulk_Q[k, k], Alt_Q[k, k], Vac_Q[k, k], Fert_Q[k, k],\n",
    "                                Bulk_rpm_delta[k, k], Alt_rpm_delta[k, k], \n",
    "                                Vac_rpm_delta[k, k], Fert_rpm_delta[k, k]]).reshape(12,1)}"
   ]
  },
  {
   "cell_type": "code",
   "execution_count": 43,
   "metadata": {},
   "outputs": [
    {
     "data": {
      "text/plain": [
       "1501"
      ]
     },
     "execution_count": 43,
     "metadata": {},
     "output_type": "execute_result"
    }
   ],
   "source": [
    "Bulk_P.shape[1]"
   ]
  },
  {
   "cell_type": "code",
   "execution_count": 22,
   "metadata": {},
   "outputs": [
    {
     "data": {
      "text/plain": [
       "array([[73.93665592]])"
      ]
     },
     "execution_count": 22,
     "metadata": {},
     "output_type": "execute_result"
    }
   ],
   "source": [
    "np.array([[Bulk_P[5,5]]])"
   ]
  },
  {
   "cell_type": "code",
   "execution_count": 23,
   "metadata": {},
   "outputs": [],
   "source": [
    "obs_low = np.zeros((12,1))\n",
    "num_actuators = 4\n",
    "max_delta_rpm = 4000               #rpm\n",
    "max_operating_flowrate = 50        #lpm\n",
    "max_operating_pressure = 300   #bar\n",
    "min_rail_pressure = 20\n",
    "max_rpm = np.array([4998,4950,3915.66,3000]) \n",
    "actuator_modes = np.array([1,2,0,1])\n",
    "\n",
    "action = {'discrete': actuator_modes.reshape(4,1),\n",
    "                'continuous': np.array([[high_pressure],[medium_pressure]])}\n",
    "commanded_RPM = np.random.uniform(low=0, high=max_delta_rpm)*np.ones(num_actuators)\n",
    "cmd_rpm = {'continuous': commanded_RPM.reshape(4,1)}"
   ]
  },
  {
   "cell_type": "code",
   "execution_count": 26,
   "metadata": {},
   "outputs": [],
   "source": [
    "d_x, d_f = 22, 12\n",
    "sf = utils.load_scale_factors('../model/scale_factors.h5')\n",
    "load_model_path = '../model/rom.h5'\n",
    "headers_in = {'in':['pHP', 'pMP', 'Bulk_mode', 'Alt_mode', 'Vac_mode', 'Fert_mode']}\n",
    "headers_env = {'env':['Bulk_rpm_cmd', 'Alt_rpm_cmd', 'Vac_rpm_cmd', 'Fert_rpm_cmd']}\n",
    "headers_out = {'out':['Bulk_P', 'Alt_P', 'Vac_P', 'Fert_P', \n",
    "            'Bulk_Q', 'Alt_Q', 'Vac_Q', 'Fert_Q',\n",
    "            'Bulk_rpm_delta', 'Alt_rpm_delta', 'Vac_rpm_delta', 'Fert_rpm_delta']}\n",
    "\n",
    "\n",
    "# headers = headers_in + headers_env + headers_out\n",
    "\n",
    "headers = {'in':['pHP', 'pMP', 'Bulk_mode', 'Alt_mode', 'Vac_mode', 'Fert_mode'],\n",
    "           'env':['Bulk_rpm_cmd', 'Alt_rpm_cmd', 'Vac_rpm_cmd', 'Fert_rpm_cmd'],\n",
    "           \"out\":['Bulk_P', 'Alt_P', 'Vac_P', 'Fert_P', \n",
    "            'Bulk_Q', 'Alt_Q', 'Vac_Q', 'Fert_Q',\n",
    "            'Bulk_rpm_delta', 'Alt_rpm_delta', 'Vac_rpm_delta', 'Fert_rpm_delta']}\n",
    "\n",
    "model = rom.ROM(d_x, d_f, \n",
    "                scale_factors=sf, \n",
    "                model_path=load_model_path,\n",
    "               headers=headers)"
   ]
  },
  {
   "cell_type": "code",
   "execution_count": 27,
   "metadata": {},
   "outputs": [
    {
     "data": {
      "text/plain": [
       "{'Alt_P': [-0.5000960000000308, 42.02517049306905, 'minmax'],\n",
       " 'Alt_Q': [0.0, 35.31594534653484, 'minmax'],\n",
       " 'Alt_mode': [1.0, 3.1, 'minmax'],\n",
       " 'Alt_rpm_cmd': [-3.8045694207827937e-13, 5197.500000000014, 'minmax'],\n",
       " 'Alt_rpm_delta': [1.254804365382213e-09, 5197.489499999954, 'minmax'],\n",
       " 'Bulk_P': [-0.4865862460395955, 119.22507386675787, 'minmax'],\n",
       " 'Bulk_Q': [-1.0583150504638109e-05, 37.78610102420679, 'minmax'],\n",
       " 'Bulk_mode': [1.0, 3.1, 'minmax'],\n",
       " 'Bulk_rpm_cmd': [3000.0, 5097.900000000029, 'minmax'],\n",
       " 'Bulk_rpm_delta': [2.500356680027268e-07, 5247.907313601388, 'minmax'],\n",
       " 'Fert_P': [-0.5092473715349765, 102.41206932402267, 'minmax'],\n",
       " 'Fert_Q': [-1.7178899999999976e-08, 8.96601157016596, 'minmax'],\n",
       " 'Fert_mode': [1.0, 3.1, 'minmax'],\n",
       " 'Fert_rpm_cmd': [-6.601935719779907e-13, 3150.000000000009, 'minmax'],\n",
       " 'Fert_rpm_delta': [-1.0289640481132776e-12, 3150.0000000000086, 'minmax'],\n",
       " 'Vac_P': [-0.5137579856435713, 220.80298522271073, 'minmax'],\n",
       " 'Vac_Q': [-0.00021212424999670306, 29.095036249776776, 'minmax'],\n",
       " 'Vac_mode': [1.0, 3.1, 'minmax'],\n",
       " 'Vac_rpm_cmd': [0.0, 4110.499307302007, 'minmax'],\n",
       " 'Vac_rpm_delta': [0.0, 5197.991836633635, 'minmax'],\n",
       " 'pHP': [0.0, 262.50000000000006, 'minmax'],\n",
       " 'pMP': [60.0, 249.0, 'minmax']}"
      ]
     },
     "execution_count": 27,
     "metadata": {},
     "output_type": "execute_result"
    }
   ],
   "source": [
    "sf"
   ]
  },
  {
   "cell_type": "code",
   "execution_count": null,
   "metadata": {},
   "outputs": [],
   "source": [
    "data['Alt_rpm_cmd'][0]"
   ]
  },
  {
   "cell_type": "code",
   "execution_count": null,
   "metadata": {},
   "outputs": [],
   "source": [
    "commanded_RPM = np.array([data['Alt_rpm_cmd'][0],data['Vac_rpm_cmd'][0],\n",
    "                 data['Fert_rpm_cmd'][0], data['Bulk_rpm_cmd'][0] ]).T"
   ]
  },
  {
   "cell_type": "code",
   "execution_count": null,
   "metadata": {},
   "outputs": [],
   "source": [
    "# commanded_RPM = np.random.uniform(low=0, high=max_delta_rpm)*np.ones(num_actuators)\n",
    "# cmd_rpm = {'continuous': commanded_RPM.reshape(4,1)}\n",
    "cmd_rpm = {'continuous':commanded_RPM}"
   ]
  },
  {
   "cell_type": "code",
   "execution_count": null,
   "metadata": {},
   "outputs": [],
   "source": [
    "action = action_space.sample()\n",
    "\n",
    "actuator_modes = action['actuator_mode']+1\n",
    "pHP = action['pHP']\n",
    "pMP = pHP*action['ratio']\n",
    "action_input = {'discrete': actuator_modes.reshape(4,1),\n",
    "                'continuous': np.array([pHP,pMP])}"
   ]
  },
  {
   "cell_type": "code",
   "execution_count": null,
   "metadata": {},
   "outputs": [],
   "source": [
    "plt.plot(np.arange(len(commanded_RPM)), commanded_RPM[:,0])\n",
    "plt.plot(np.arange(len(commanded_RPM)), commanded_RPM[:,1])\n",
    "plt.plot(np.arange(len(commanded_RPM)), commanded_RPM[:,2])\n",
    "plt.plot(np.arange(len(commanded_RPM)), commanded_RPM[:,3])"
   ]
  },
  {
   "cell_type": "code",
   "execution_count": null,
   "metadata": {},
   "outputs": [],
   "source": [
    "df = pd.DataFrame(data=commanded_RPM)\n",
    "df.columns = ['Vac','Fert','Alt','Bulk']\n",
    "# df['Vac'].apply(lambda x: int(x)).value_counts()"
   ]
  },
  {
   "cell_type": "code",
   "execution_count": null,
   "metadata": {},
   "outputs": [],
   "source": [
    "time = 1500\n",
    "time_step = 0.2\n",
    "obs_t = init_obs\n",
    "obs = [init_obs['continuous'].flatten()]\n",
    "for t in range(time):\n",
    "    # action = action_space.sample()\n",
    "    # actuator_modes = action['actuator_mode']+1\n",
    "    # pHP = action['pHP']\n",
    "    # pMP = pHP*action['ratio']\n",
    "    # action_input = {'discrete': actuator_modes.reshape(4,1),\n",
    "    #                 'continuous': np.array([pHP,pMP])}\n",
    "    cmd_rpm = {'continuous':np.array([[c] for c in commanded_RPM[t]])}\n",
    "    obs_t = model.call_ROM(act = action_input, cmd = cmd_rpm, obs=obs_t)\n",
    "    obs.append(obs_t['continuous'].flatten())"
   ]
  },
  {
   "cell_type": "code",
   "execution_count": null,
   "metadata": {},
   "outputs": [],
   "source": [
    "# Check if environment works\n",
    "\n",
    "from controller_env import OptimControllerEnv\n",
    "\n",
    "env = OptimControllerEnv()\n",
    "obs = env.reset()\n",
    "\n",
    "while True:\n",
    "    action = env.action_space.sample()\n",
    "    exogenous_variable = env.commanded_RPM\n",
    "    obs, r, done, _ = env.step(action=action)\n",
    "    if r > -3000:\n",
    "        print(f'Reward : {r}, Action : {action}')\n",
    "        print(obs.flatten())\n",
    "    \n",
    "    if done:\n",
    "        break"
   ]
  },
  {
   "cell_type": "code",
   "execution_count": null,
   "metadata": {},
   "outputs": [],
   "source": [
    "df.plot(x = 'time', y=['Bulk_P','Alt_P','Fert_P','Vac_P',\n",
    "                       'Bulk_Q', 'Alt_Q', 'Vac_Q','Fert_Q'])"
   ]
  },
  {
   "cell_type": "code",
   "execution_count": null,
   "metadata": {},
   "outputs": [],
   "source": [
    "# np.concatenate((action['continuous'], \n",
    "# \t\t\t\t\t\t\taction['discrete'],\n",
    "# \t\t\t\t\t\t\tcmd_rpm['continuous'],\n",
    "# \t\t\t\t\t\t\tinit_obs['continuous']), axis=0)\n",
    "action['continuous'].ndim"
   ]
  },
  {
   "cell_type": "code",
   "execution_count": null,
   "metadata": {},
   "outputs": [],
   "source": [
    "class OptimControllerEnv(gym.Env):\n",
    "    def __init__(self):\n",
    "        obs_low = np.zeros((12,1))\n",
    "        self.num_actuators = 4\n",
    "        self.max_delta_rpm = 10000               #rpm\n",
    "        self.max_operating_flowrate = 500        #lpm\n",
    "        self.max_operating_pressure = 3000   #bar\n",
    "        self.min_rail_pressure = 20\n",
    "        # self.max_rpm = np.array([4998,4950,3915.66,3000]) # max rpm for each actuator (bulk, vac, alt, fert)\n",
    "        self.max_rpm = np.array([49980,49500,39150.66,30000])\n",
    "        d_x, d_f = 22, 12\n",
    "        sf = utils.load_scale_factors('model/scale_factors.h5')\n",
    "        load_model_path = 'model/rom.h5'\n",
    "        headers_in = ['pHP', 'pMP', 'Bulk_mode', 'Alt_mode', 'Vac_mode', 'Fert_mode']\n",
    "        headers_env = ['Bulk_rpm_cmd', 'Alt_rpm_cmd', 'Vac_rpm_cmd', 'Fert_rpm_cmd']\n",
    "        headers_out = ['Bulk_P', 'Alt_P', 'Vac_P', 'Fert_P', \n",
    "                    'Bulk_Q', 'Alt_Q', 'Vac_Q', 'Fert_Q',\n",
    "                    'Bulk_rpm_delta', 'Alt_rpm_delta', 'Vac_rpm_delta', 'Fert_rpm_delta']\n",
    "\n",
    "        headers = headers_in + headers_env + headers_out\n",
    "\n",
    "        self.ROM = rom.ROM(d_x, d_f, \n",
    "                        scale_factors=sf, \n",
    "                        model_path=load_model_path,\n",
    "                        headers=headers)\n",
    "        # Define the action space: Bounds, space type, shape\n",
    "\n",
    "        self.action_space = spaces.Dict({\n",
    "            'actuator_mode': spaces.MultiDiscrete([3, 3, 3, 3]),  # Example discrete action with 4 options corresponding to 4 modes of the actuators\n",
    "            'pHP': spaces.Box(low=self.min_rail_pressure, high=self.max_operating_pressure, shape=(1,), dtype=np.float64),\n",
    "              'pressure_ratio':spaces.Box(low=0, high = 1, shape=(1,), dtype = np.float64),# Example continuous action with shape (2,) for MP and HP\n",
    "        })\n",
    "\n",
    "        ## Define the observation space - bounds, space type and shape\n",
    "\n",
    "        # 4 operating pressures, 4 operating flowrate, 4 delta rpm\n",
    "\n",
    "        obs_high = np.array([[self.max_operating_pressure] for _ in range(self.num_actuators)] + \n",
    "                            [[self.max_operating_flowrate] for _ in range(self.num_actuators)] +\n",
    "                            [[self.max_delta_rpm] for _ in range(self.num_actuators)])\n",
    "        # observation space\n",
    "        self.observation_space = spaces.Box(low=obs_low, high=obs_high, dtype=np.float64) # Observation space including bounds, space type and shape\n",
    "\n",
    "        # Define exogenous variable\n",
    "        self.commanded_RPM = np.random.uniform()*self.max_rpm\n",
    "\n",
    "        self.current_obs = None\n",
    "        self.episode_simulation_time = 300\n",
    "        self.simulation_time = 0\n",
    "        self.dt = 1\n",
    "\n",
    "    def reset(self):\n",
    "        # Reset the environment state to the initial state\n",
    "\n",
    "        #Initial observation\n",
    "\n",
    "        T, data = utils.load_data('data/data.h5')\n",
    "        Bulk_P = data['Bulk_P']\n",
    "        Alt_P = data['Alt_P']\n",
    "        Vac_P = data['Vac_P']\n",
    "        Fert_P = data['Fert_P']\n",
    "        Bulk_Q = data['Bulk_Q']\n",
    "        Alt_Q = data['Alt_Q']\n",
    "        Vac_Q = data['Vac_Q']\n",
    "        Fert_Q = data['Fert_Q']\n",
    "        Bulk_rpm_delta = data['Bulk_rpm_delta']\n",
    "        Alt_rpm_delta = data['Alt_rpm_delta']\n",
    "        Vac_rpm_delta = data['Vac_rpm_delta']\n",
    "        Fert_rpm_delta = data['Fert_rpm_delta']\n",
    "        self.init_obs = {'continuous': np.concatenate((Bulk_P[:1, :1], Alt_P[:1, :1], Vac_P[:1, :1], Fert_P[:1, :1],\n",
    "                                     Bulk_Q[:1, :1], Alt_Q[:1, :1], Vac_Q[:1, :1], Fert_Q[:1, :1],\n",
    "                                     Bulk_rpm_delta[:1, :1], Alt_rpm_delta[:1, :1], \n",
    "                                     Vac_rpm_delta[:1, :1], Fert_rpm_delta[:1, :1]), axis=0)} \n",
    "        #TODO: Maybe randomize the index?!\n",
    "        dt = self.dt # time in seconds\n",
    "\n",
    "        # Random action\n",
    "\n",
    "        # Sample high and medium pressure levels at time t = 0\n",
    "        self.low_pressure = self.min_rail_pressure\n",
    "        self.high_pressure = np.random.uniform(low=self.low_pressure, high=self.max_operating_pressure)\n",
    "        self.medium_pressure = max(self.low_pressure, np.random.uniform()*self.high_pressure)\n",
    "        \n",
    "\n",
    "        # Sample actuator modes randomly at time t =0 \n",
    "        self.actuator_modes = np.random.randint(low=1,high=4)*np.ones(self.num_actuators)\n",
    "\n",
    "        \n",
    "        # Return the random initial observation from ROM model\n",
    "\n",
    "        # action = Dict('discrete': NumPy (4, t), 'continuous': NumPy (2, t))\n",
    "        #                order: Bulk_mode, Alt_mode, Vac_mode, Fert_mode\n",
    "        #                order: pHP, pMP\n",
    "        action = {'discrete': self.actuator_modes.reshape(4,1),\n",
    "                'continuous': np.array([[self.high_pressure],[self.medium_pressure]])}\n",
    "\n",
    "        # cmd_rpm = Dict('continuous': NumPy (4, t))\n",
    "        #                order: Bulk_rpm, Alt_rpm, Vac_rpm, Fert_rpm\n",
    "\n",
    "        # Sample commanded RPM randomly at time t = 0. The commanded RPM is determined by the crops etc.\n",
    "        self.commanded_RPM = np.random.uniform(low=0, high=self.max_delta_rpm)*np.ones(self.num_actuators)\n",
    "        cmd_rpm = {'continuous': self.commanded_RPM.reshape(4,1)}\n",
    "\n",
    "        # obs = Dict('continuous': NumPy (12,))\n",
    "        #                order: Bulk_P, Alt_P, Vac_P, Fert_P, \n",
    "        #                       Bulk_Q, Alt_Q, Vac_Q, Fert_Q,\n",
    "        #                       Bulk_rpm_delta, Alt_rpm_delta, Vac_rpm_delta, Fert_rpm_delta\n",
    "        # NOTE: Q values are set to 0 for now\n",
    "\n",
    "        # Compute random obs from ROM\n",
    "        obs = self.ROM.call_ROM(act=action, cmd=cmd_rpm, obs=self.init_obs, T=dt)\n",
    "        self.current_obs = obs['continuous']\n",
    "\n",
    "        return self.current_obs\n",
    "\n",
    "    def step(self, action):\n",
    "        \"\"\"\n",
    "        Returns: Given current observation and action, returns the next observation, the reward, done, and additional information\n",
    "        \"\"\"\n",
    "\n",
    "        ## Convert action to the form that ROM can take the input in \n",
    "\n",
    "        pHP = action['pHP']\n",
    "        pMP = pHP*action['pressure_ratio']\n",
    "        actuator_modes = action['actuator_mode']+1\n",
    "        action_input = {'discrete': actuator_modes.reshape(4,1),\n",
    "                'continuous': np.array([pHP,pMP])}\n",
    "        current_obs = {'continuous':self.current_obs}\n",
    "        \n",
    "        ## environment variable\n",
    "\n",
    "        commanded_RPM = self.environment_variable\n",
    "        cmd_rpm = {'continuous': commanded_RPM.reshape(4,1)}\n",
    "        \n",
    "        ## Compute next observation from action and exogenous variables\n",
    "        next_obs = self.ROM.call_ROM(act=action_input, cmd=cmd_rpm, obs=current_obs, T=self.dt)\n",
    "\n",
    "        ## Check if the excess pressure is positive or not\n",
    "        ## if positive for all actuators, mode in the action is valid.\n",
    "        ## if negative for any actuator, choose a different mode for that actuator, that would results in a higher pressure drop\n",
    "\n",
    "\n",
    "        ## Compute the reward\n",
    "        ### Define excess pressure first \n",
    "        pLP = self.low_pressure\n",
    "        available_pressure = np.array([])\n",
    "        for i in actuator_modes:\n",
    "            if i ==1:\n",
    "                available_pressure_val = pMP-pLP\n",
    "                available_pressure = np.append(available_pressure, available_pressure_val)\n",
    "            elif i==2:\n",
    "                available_pressure_val = pHP-pMP\n",
    "                available_pressure = np.append(available_pressure, available_pressure_val)\n",
    "            elif i==3:\n",
    "                available_pressure_val = pHP-pLP\n",
    "                available_pressure = np.append(available_pressure, available_pressure_val)\n",
    "            else:\n",
    "                raise ValueError(\"Invalid value for mode. Should be an integer in the list [1,2,3]\")\n",
    "\n",
    "        excess_pressure = available_pressure.reshape(4,1)-next_obs['continuous'][0:4].reshape(4,1)\n",
    "        reward = -(np.sum(excess_pressure*next_obs['continuous'][4:8].reshape(4,1)) + \\\n",
    "                np.sum(next_obs['continuous'][8:12]))\n",
    "        \n",
    "        ## Compute done\n",
    "        self.simulation_time +=self.dt\n",
    "        done=False\n",
    "        if self.simulation_time >= self.episode_simulation_time:\n",
    "            done = True\n",
    "        \n",
    "        # Return the observation, reward, done flag, and additional information\n",
    "\n",
    "        self.current_obs = next_obs['continuous']\n",
    "        info = {}  # Additional information (if any)\n",
    "\n",
    "        return self.current_obs, reward, done, info\n",
    "\n",
    "    def render(self, mode='human'):\n",
    "        # Define how to render the environment (optional)\n",
    "        pass"
   ]
  },
  {
   "cell_type": "code",
   "execution_count": null,
   "metadata": {},
   "outputs": [],
   "source": [
    "# Check if environment works\n",
    "\n",
    "from controller_env import OptimControllerEnv\n",
    "\n",
    "env = OptimControllerEnv()\n",
    "obs = env.reset()\n",
    "\n",
    "while True:\n",
    "    action = env.action_space.sample()\n",
    "    exogenous_variable = env.commanded_RPM\n",
    "    obs, r, done, _ = env.step(action=action)\n",
    "    # if r > -2000:\n",
    "    print(r, action)\n",
    "    print(obs.flatten())\n",
    "    \n",
    "    if done:\n",
    "        break"
   ]
  },
  {
   "cell_type": "code",
   "execution_count": null,
   "metadata": {},
   "outputs": [],
   "source": [
    "action = env.action_space.sample()\n",
    "pHP = action['pHP']\n",
    "pMP = pHP*action['pressure_ratio']\n",
    "actuator_modes = action['actuator_mode']+1\n",
    "action_input = {'discrete': actuator_modes.reshape(4,1),\n",
    "        'continuous': np.array([pHP,pMP])}"
   ]
  },
  {
   "cell_type": "markdown",
   "metadata": {},
   "source": [
    "# Use Ray-RLlib to solve the custom environment"
   ]
  },
  {
   "cell_type": "code",
   "execution_count": null,
   "metadata": {},
   "outputs": [],
   "source": [
    "import ray\n",
    "# from ray.rllib.algorithms import ppo\n",
    "# ray.init()\n",
    "# algo = ray.rllib.algorithms.ppo.PPO(env=env, config={\n",
    "#     \"env_config\": {},  # config to pass to env class\n",
    "# })"
   ]
  },
  {
   "cell_type": "code",
   "execution_count": null,
   "metadata": {},
   "outputs": [],
   "source": [
    "# ray.rllib.agents.ppo"
   ]
  },
  {
   "cell_type": "code",
   "execution_count": null,
   "metadata": {},
   "outputs": [],
   "source": [
    "from ray.tune.registry import register_env\n",
    "\n",
    "def env_creator(env_config):\n",
    "    return OptimControllerEnv()  # return an env instance\n",
    "\n",
    "register_env(\"my_env\", env_creator)\n",
    "# algo = ppo.PPO(env=\"my_env\")"
   ]
  },
  {
   "cell_type": "code",
   "execution_count": null,
   "metadata": {},
   "outputs": [],
   "source": [
    "res = tune.run(\"PPO\",\n",
    "        stop={\n",
    "        'timesteps_total': 300},\n",
    "         config = {\"env\": \"my_env\",\n",
    "                   \"num_workers\": 3,},\n",
    "         local_dir=\"./Agent_experiment\",\n",
    "         verbose=0,\n",
    "         log_to_file=True)"
   ]
  }
 ],
 "metadata": {
  "kernelspec": {
   "display_name": "PurdueAg",
   "language": "python",
   "name": "python3"
  },
  "language_info": {
   "codemirror_mode": {
    "name": "ipython",
    "version": 3
   },
   "file_extension": ".py",
   "mimetype": "text/x-python",
   "name": "python",
   "nbconvert_exporter": "python",
   "pygments_lexer": "ipython3",
   "version": "3.9.18"
  },
  "orig_nbformat": 4,
  "vscode": {
   "interpreter": {
    "hash": "86cfaa881c7c6169e5ee448f84e510ecf98022ff9709a63a0b3052dc4b062575"
   }
  }
 },
 "nbformat": 4,
 "nbformat_minor": 2
}
